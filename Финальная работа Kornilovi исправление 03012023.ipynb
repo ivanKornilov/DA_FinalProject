{
 "cells": [
  {
   "cell_type": "markdown",
   "id": "b02e26d4",
   "metadata": {},
   "source": [
    "# Постановка задачи и выяснение общей картины"
   ]
  },
  {
   "cell_type": "code",
   "execution_count": 27,
   "id": "ad10fff2",
   "metadata": {},
   "outputs": [],
   "source": [
    "import pandas as pd\n",
    "df_new = pd.read_csv('ga_sessions.csv', low_memory=False)"
   ]
  },
  {
   "cell_type": "markdown",
   "id": "07c1a2d9",
   "metadata": {},
   "source": [
    "GA Sessions (ga_sessions.pkl)\n",
    "\n",
    "Одна строка = один визит на сайт.\n",
    "Описание атрибутов:\n",
    "session_id — ID визита;\n",
    "client_id — ID посетителя;\n",
    "visit_date — дата визита;\n",
    "visit_time — время визита;\n",
    "visit_number — порядковый номер визита клиента;\n",
    "utm_source — канал привлечения;\n",
    "utm_medium — тип привлечения;\n",
    "utm_campaign — рекламная кампания;\n",
    "utm_keyword — ключевое слово;\n",
    "device_category — тип устройства;\n",
    "device_os — ОС устройства;\n",
    "device_brand — марка устройства;\n",
    "device_model — модель устройства;\n",
    "device_screen_resolution — разрешение экрана;\n",
    "device_brand — марка устройства;\n",
    "device_model — модель устройства;\n",
    "device_screen_resolution — разрешение экрана;\n",
    "device_browser — браузер;\n",
    "geo_country — страна;\n",
    "geo_city — город."
   ]
  },
  {
   "cell_type": "code",
   "execution_count": 8,
   "id": "fee2c00e",
   "metadata": {},
   "outputs": [],
   "source": [
    "def print_fullycomplete_and_percent(df):\n",
    "    print('количество полностью заполненных объектов ',len(df.dropna()))\n",
    "    print('процент полностью заполненных объектов из всей выборки ',round(len(df.dropna()) / len(df) * 100, 2 ))"
   ]
  },
  {
   "cell_type": "markdown",
   "id": "c4db55d6",
   "metadata": {},
   "source": [
    "# Проведим разведочный анализ данных\n",
    "# Проведим базовую чистку (дубликаты, пустые значения, типизация данных, ненужные атрибуты)."
   ]
  },
  {
   "cell_type": "code",
   "execution_count": 28,
   "id": "15aea549",
   "metadata": {},
   "outputs": [],
   "source": [
    "# копируем новый датасет\n",
    "df_new2 = df_new.copy() "
   ]
  },
  {
   "cell_type": "code",
   "execution_count": 29,
   "id": "06df9274",
   "metadata": {},
   "outputs": [],
   "source": [
    "# отбрасываем признаки с незначимыми аттрибутами (30% данных не заполнены): device_model, utm_keyword, device_os\n",
    "df_new2 = df_new2.drop('device_model', axis = 1)\n",
    "df_new2 = df_new2.drop('utm_keyword', axis = 1)\n",
    "df_new2 = df_new2.drop('device_os', axis = 1)"
   ]
  },
  {
   "cell_type": "code",
   "execution_count": 33,
   "id": "f1d36599",
   "metadata": {},
   "outputs": [
    {
     "name": "stdout",
     "output_type": "stream",
     "text": [
      "количество полностью заполненных объектов  1230859\n",
      "процент полностью заполненных объектов из всей выборки  66.17\n"
     ]
    }
   ],
   "source": [
    "# итого получаем рост заполненности данными 66%:\n",
    "print_fullycomplete_and_percent(df_new2)"
   ]
  },
  {
   "cell_type": "code",
   "execution_count": 37,
   "id": "93d667c1",
   "metadata": {
    "scrolled": true
   },
   "outputs": [
    {
     "data": {
      "text/plain": [
       "session_id                  0.0\n",
       "client_id                   0.0\n",
       "visit_number                0.0\n",
       "utm_source                  0.0\n",
       "utm_medium                  0.0\n",
       "utm_campaign                0.0\n",
       "utm_adcontent               0.0\n",
       "device_category             0.0\n",
       "device_brand                0.0\n",
       "device_screen_resolution    0.0\n",
       "device_browser              0.0\n",
       "geo_country                 0.0\n",
       "geo_city                    0.0\n",
       "visit_date_time             0.0\n",
       "dtype: float64"
      ]
     },
     "execution_count": 37,
     "metadata": {},
     "output_type": "execute_result"
    }
   ],
   "source": [
    "# итого получаем, что пустых данных нет\n",
    "missing_values_percent = ( (df_new2.isna().sum() / len(df_new2))* 100 ).sort_values(ascending=False)\n",
    "missing_values_percent "
   ]
  },
  {
   "cell_type": "code",
   "execution_count": 31,
   "id": "41477fed",
   "metadata": {},
   "outputs": [],
   "source": [
    "# заполняем device_brand и utm_source самым  (это не потит картину по ним)\n",
    "df_new2.device_brand = df_new2.device_brand.fillna((df_new2.device_brand.mode())[0])\n",
    "df_new2.utm_source = df_new2.utm_source.fillna((df_new2.utm_source.mode())[0])"
   ]
  },
  {
   "cell_type": "code",
   "execution_count": 32,
   "id": "ad69e6e5",
   "metadata": {},
   "outputs": [],
   "source": [
    "# а по рекламным компаниям заполняем поле OTHER\n",
    "df_new2.utm_campaign = df_new2.utm_campaign.fillna('other')\n",
    "df_new2.utm_adcontent = df_new2.utm_adcontent.fillna('other')"
   ]
  },
  {
   "cell_type": "code",
   "execution_count": 50,
   "id": "a7a90972",
   "metadata": {},
   "outputs": [],
   "source": [
    "# теперь нет пропусков в данных"
   ]
  },
  {
   "cell_type": "code",
   "execution_count": 33,
   "id": "adf5fb2e",
   "metadata": {},
   "outputs": [],
   "source": [
    "# преобразуем отдельно заданные дату и время в поле с типом Дата-Время\n",
    "df_new2['visit_date_time'] = pd.to_datetime(df_new2['visit_date'] + ' ' + df_new2['visit_time'])"
   ]
  },
  {
   "cell_type": "code",
   "execution_count": 34,
   "id": "fa58a82c",
   "metadata": {},
   "outputs": [],
   "source": [
    "# удаляем лишние столбцы visit_date visit_time\n",
    "df_new2 = df_new2.drop('visit_date', axis = 1)\n",
    "df_new2 = df_new2.drop('visit_time', axis = 1)"
   ]
  },
  {
   "cell_type": "code",
   "execution_count": 35,
   "id": "66df3457",
   "metadata": {},
   "outputs": [],
   "source": [
    "# visit_numer лучше чтобы был Int\n",
    "df_new2.visit_number = df_new2.visit_number.astype(int)"
   ]
  },
  {
   "cell_type": "code",
   "execution_count": 1,
   "id": "e7044fe3",
   "metadata": {},
   "outputs": [],
   "source": [
    "def convert_int(x):\n",
    "    if len(x) == 0:\n",
    "        return 0\n",
    "    return int(x.split('.')[0])\n",
    " \n",
    "def convert_float(x):\n",
    "    if len(x) == 0:\n",
    "        return np.nan\n",
    "    return float(x)\n",
    "\n",
    "\n",
    "df_hits = pd.read_csv('ga_hits.csv', low_memory=False, usecols= ['session_id','hit_date', 'hit_time', 'hit_number', 'hit_type','hit_referer','hit_page_path','event_category','event_action','event_label', 'event_value'], converters={'hit_time' : convert_int ,'event_value' : convert_int})"
   ]
  },
  {
   "cell_type": "markdown",
   "id": "78fa6e81",
   "metadata": {},
   "source": [
    "Описание второго дата-сета: "
   ]
  },
  {
   "cell_type": "markdown",
   "id": "0d0b5865",
   "metadata": {},
   "source": [
    "GA Hits (ga_hits.pkl)\n",
    "Одна строка = одно событие в рамках одного визита на сайт.\n",
    "Описание атрибутов:\n",
    "session_id — ID визита;\n",
    "hit_date — дата события;\n",
    "hit_time — время события;\n",
    "hit_number — порядковый номер события в рамках сессии;\n",
    "hit_type — тип события;\n",
    "hit_referer — источник события;\n",
    "hit_page_path — страница события;\n",
    "event_category — тип действия;\n",
    "event_action — действие;\n",
    "event_label — тег действия;\n",
    "event_value — значение результата действия."
   ]
  },
  {
   "cell_type": "code",
   "execution_count": 4,
   "id": "c31d7fef",
   "metadata": {},
   "outputs": [],
   "source": [
    "df_hits2 = df_hits.copy()"
   ]
  },
  {
   "cell_type": "code",
   "execution_count": 21,
   "id": "36a7bed6",
   "metadata": {},
   "outputs": [],
   "source": [
    "#меняем тип столбца даты на дату время\n",
    "df_hits2['hit_date'] = pd.to_datetime(df_hits2['hit_date'])"
   ]
  },
  {
   "cell_type": "code",
   "execution_count": 15,
   "id": "afeeb6ec",
   "metadata": {},
   "outputs": [],
   "source": [
    "#заполняем Nan hit_referer event_label значениями other\n",
    "df_hits2.hit_referer = df_hits2.hit_referer.fillna('other')\n",
    "df_hits2.event_label = df_hits2.event_label.fillna('other')"
   ]
  },
  {
   "cell_type": "code",
   "execution_count": 25,
   "id": "8bd6e971",
   "metadata": {},
   "outputs": [],
   "source": [
    "# удаляем лишние столбцы visit_date visit_time\n",
    "df_hits2 = df_hits2.drop('hit_time', axis = 1)"
   ]
  },
  {
   "cell_type": "markdown",
   "id": "33ece05f",
   "metadata": {},
   "source": [
    "Выполняем задание согласно моей специализации Data Analyst:\n",
    "\n",
    "Проведите проверку следующих гипотез:\n",
    "\n",
    "1) Органический трафик не отличается от платного с точки зрения CR (Conversion Rate) в целевые события.\n",
    "\n",
    "Целевое действие — события типа «Оставить заявку» и «Заказать звонок» \n",
    "(ga_hits.event_action in ['sub_car_claim_click', 'sub_car_claim_submit_click', 'sub_open_dialog_click', sub_custom_question_submit_click', 'sub_call_number_click', 'sub_callback_submit_click', 'sub_submit_success', 'sub_car_request_submit_click']).\n",
    "\n",
    "CR (Conversion Rate) — показатель конверсии из визита (уникальный \n",
    "session_id) в любое целевое действие в рамках одного визита (в случае \n",
    "наличия >1 целевого действия — считать все как одно).\n",
    "\n",
    "\n",
    "2) Трафик с мобильных устройств не отличается от трафика с десктопных устройств с точки зрения CR (Conversion Rate) в целевые события.\n",
    "\n",
    "Органический трафик — все визиты с ga_sessions.utm_medium in ('organic', \n",
    "'referral', '(none)').\n",
    "\n",
    "Платный трафик — весь неорганический трафик.\n",
    "\n",
    "Информация про марку и модель авто — содержится \n",
    "\n",
    "в ga_hits.hit_page_path.\n",
    "Реклама в социальных сетях — все визиты с ga_sessions.utm_source in \n",
    "('QxAxdyPLuQMEcrdZWdWb', 'MvfHsxITijuriZxsqZqt', 'ISrKoXQCxqqYvAZICvjs', \n",
    "IZEXUFLARCUMynmHNBGo', 'PlbkrSYoHuZBWfYjYnfw', \n",
    "'gVRrcxiDQubJiljoTbGm').\n",
    "\n",
    "3) Трафик из городов присутствия (Москва и область, Санкт-Петербург) не отличается от трафика из иных регионов с точки зрения CR (Conversion Rate) в целевые события.\n",
    "\n",
    "\n",
    "Ответьте на вопросы продуктовой команды:\n",
    "\n",
    "1) Из каких источников (кампаний, устройств, локаций) к нам идёт самый целевой трафик (и с точки зрения объёма трафика, и с точки зрения CR)?\n",
    "\n",
    "2) Какие авто пользуются наибольшим спросом? У каких авто самый лучший показатель CR (Conversion Rate) в целевые события?\n",
    "\n",
    "3) Стоит ли нам увеличивать своё присутствие в соцсетях и давать там больше рекламы?\n"
   ]
  },
  {
   "cell_type": "markdown",
   "id": "64d10cda",
   "metadata": {},
   "source": [
    "Объединяем дата-сет с событиями (когда кто подключался) и дата-сет с дополнительной инфрмацией о сессиях"
   ]
  },
  {
   "cell_type": "code",
   "execution_count": 13,
   "id": "1f3fb1ac",
   "metadata": {},
   "outputs": [],
   "source": [
    "df1 = pd.merge(df_hits2, df_new2, left_on='session_id', right_on='session_id')"
   ]
  },
  {
   "cell_type": "markdown",
   "id": "f98ac7a4",
   "metadata": {},
   "source": [
    "Собираем в список все целевые действия и создаем новый признак равный целевому действию и не целевому действию"
   ]
  },
  {
   "cell_type": "code",
   "execution_count": 3,
   "id": "c77ff743",
   "metadata": {},
   "outputs": [],
   "source": [
    "target_event_actions = [\n",
    "    'sub_car_claim_submit_click', \n",
    "    'sub_submit_success', \n",
    "    'sub_car_claim_click', \n",
    "    'sub_open_dialog_click', \n",
    "    'sub_call_number_click',\n",
    "    'sub_car_request_submit_click']\n",
    "df1['event_action_taget_notarget'] = df1['event_action'].apply(lambda x : 'taget' if x in target_event_actions else 'notarget')\n"
   ]
  },
  {
   "cell_type": "markdown",
   "id": "c2bfe5fb",
   "metadata": {},
   "source": [
    "Собираем в список все типы органического траффика и создаем новый признак равный типу траффика"
   ]
  },
  {
   "cell_type": "code",
   "execution_count": 4,
   "id": "a274d7f1",
   "metadata": {},
   "outputs": [],
   "source": [
    "utm_medium_type_organic_not_organic = [\n",
    "    '(none)', \n",
    "    'organic', \n",
    "    'referral']\n",
    "df1['utm_medium_type_organic_not_organic'] = df1['utm_medium'].apply(lambda x : 'organic' if x in utm_medium_type_organic_not_organic else 'not_organic')\n"
   ]
  },
  {
   "cell_type": "markdown",
   "id": "496a1ae7",
   "metadata": {},
   "source": [
    "Собираем в список все типы устройства и создаем новый признак равный типу устройства"
   ]
  },
  {
   "cell_type": "code",
   "execution_count": 5,
   "id": "53ff02d8",
   "metadata": {},
   "outputs": [],
   "source": [
    "device_category_type = ['mobile', 'tablet']\n",
    "df1['device_category_type'] = df1['device_category'].apply(lambda x : 'mobile' if x in device_category_type else 'desktop')\n"
   ]
  },
  {
   "cell_type": "markdown",
   "id": "a366c985",
   "metadata": {},
   "source": [
    "Собираем в список все города присутсвия и создаем новый признак равный городу присуствия"
   ]
  },
  {
   "cell_type": "code",
   "execution_count": 22,
   "id": "09f1b33b",
   "metadata": {},
   "outputs": [],
   "source": [
    "geo_city_presence = ['Saint Petersburg',\n",
    "                    'Moscow',\n",
    "                    'Podolsk',\n",
    "                    'Korolyov',\n",
    "                    'Kolomna',\n",
    "                    'Naro-Fominsk',\n",
    "                    'Dzerzhinsky',\n",
    "                    'Krasnogorsk',\n",
    "                    'Balashikha',\n",
    "                    'Dmitrov',\n",
    "                    'Sergiyev Posad',\n",
    "                    'Odintsovo',\n",
    "                    'Lobnya',\n",
    "                    'Yegoryevsk',\n",
    "                    'Kotelniki',\n",
    "                    'Mytishchi',\n",
    "                    'Zheleznodorozhny',\n",
    "                    'Serpukhov',\n",
    "                    'Shchyolkovo',\n",
    "                    'Vidnoye',\n",
    "                    'Khimki',\n",
    "                    'Golitsyno',\n",
    "                    'Ramenskoye',\n",
    "                    'Dubna',\n",
    "                    'Likino-Dulyovo',\n",
    "                    'Ivanteyevka',\n",
    "                    'LesnoyGorodok',\n",
    "                    'Istra',\n",
    "                    'Losino-Petrovsky',\n",
    "                    'SaintPetersburg',\n",
    "                    'Elektrogorsk',\n",
    "                    'Protvino',\n",
    "                    'Klimovsk',\n",
    "                    'Tomilino',\n",
    "                    'Petrovo-Dalneye',\n",
    "                    'Pushkino',\n",
    "                    'Orekhovo-Zuyevo',\n",
    "                    'Voskresensk',\n",
    "                    'Fryazino',\n",
    "                    'Kraskovo',\n",
    "                    'Khotkovo',\n",
    "                    'Kubinka',\n",
    "                    'Chernogolovka',\n",
    "                    'Dolgoprudny']\n",
    "df1['geo_city_presence'] = df1['geo_city'].apply(lambda x : 'city_presence' if x in geo_city_presence else 'other_city')\n"
   ]
  },
  {
   "cell_type": "markdown",
   "id": "9f55ccb5",
   "metadata": {},
   "source": [
    "Создаем функцияю со списком моделей автомобиля и создаем новый признак - модель автомобиля "
   ]
  },
  {
   "cell_type": "code",
   "execution_count": 9,
   "id": "0f501d8b",
   "metadata": {},
   "outputs": [],
   "source": [
    "def find_auto(str):\n",
    "    car_models = ['/skoda', \n",
    "                  '/renault', \n",
    "                  '/volkswagen',\n",
    "                  '/toyota', \n",
    "                  '/kia', \n",
    "                  '/nissan',\n",
    "                  '/toyota',\n",
    "                  '/volvo',\n",
    "                  '/fiat',\n",
    "                  '/mercedes-benz',\n",
    "                  '/bmw',\n",
    "                  '/volkswagen',\n",
    "                  '/audi',\n",
    "                  '/peugeot',\n",
    "                  '/porsche',\n",
    "                  '/haval',\n",
    "                  '/lada-vaz',\n",
    "                  '/mini',\n",
    "                  '/lexus',\n",
    "                  '/land-rover']\n",
    "    found_car_model = 'model_unknown'\n",
    "    for car_model in car_models:\n",
    "        if car_model in str: \n",
    "            found_car_model = car_model\n",
    "    return found_car_model\n",
    "df1['car_type'] = df1['hit_page_path'].apply(lambda x : find_auto(x))\n"
   ]
  },
  {
   "cell_type": "markdown",
   "id": "192b6588",
   "metadata": {},
   "source": [
    "Строим сводную таблицу с группировкой по типу траффика (органика / неорганика) и типу конверсии - в целефвое действие и нецелевое действие"
   ]
  },
  {
   "cell_type": "code",
   "execution_count": 25,
   "id": "4ee107a2",
   "metadata": {},
   "outputs": [
    {
     "data": {
      "text/plain": [
       "utm_medium_type_organic_not_organic  event_action_taget_notarget\n",
       "not_organic                          notarget                       9808238\n",
       "                                     taget                            59414\n",
       "organic                              notarget                       5777695\n",
       "                                     taget                            39872\n",
       "Name: session_id, dtype: int64"
      ]
     },
     "execution_count": 25,
     "metadata": {},
     "output_type": "execute_result"
    }
   ],
   "source": [
    "df1.groupby(['utm_medium_type_organic_not_organic','event_action_taget_notarget'])['session_id'].count()\n"
   ]
  },
  {
   "cell_type": "markdown",
   "id": "7ebb0f10",
   "metadata": {},
   "source": [
    "Нулевая гипотеза : кол-во конверсий среди органического трафика такое же, как и при не-органическом\n",
    "Альтенативная гипотеза: кол-во конверсий выше при не-органическом траффике\n",
    "Используем биномиальный критерий проверки гипотезы"
   ]
  },
  {
   "cell_type": "markdown",
   "id": "4abf0964",
   "metadata": {},
   "source": [
    "Создаем функцию статистического Биноминального критерия значимости"
   ]
  },
  {
   "cell_type": "code",
   "execution_count": 2,
   "id": "a6ac4fbc",
   "metadata": {},
   "outputs": [],
   "source": [
    "def p_bin(m1,n1,m2,n2,level_conf=0.05): \n",
    "    # на вход ф-ии подается кол-во успехов варианта А и общее число вариантов m1,n1 \n",
    "    #и число успехов варанта Б и общее число вариантов m2, n2, \n",
    "    #а также уровень значимости - опционально (0.05 по умолчанию)\n",
    "    from scipy import stats\n",
    "    T = (m1/n1 - m2/n2)/((m1+m2)/(n1+n2)*(1 - (m1+m2)/(n1+n2))*(1/n1+1/n2))**0.5 #формула биномиального критерия вер-сти\n",
    "    P = 1 - stats.norm.cdf(T)  # вычисляем p-значение\n",
    "    # критичная область у нас со знаком БОЛЬШЕ, потому что задачался вопрос в альтернативной что ВАРИАНТ А был более значимым\n",
    "    print(f\"Stats {T}, p-value {P}\")\n",
    "    if (P < level_conf):\n",
    "        print(f\"На уровне значимости {level_conf} нулевая гипотеза отвергается в пользу альтернативной: Вариаент А более значим (значимая разница Варианта А перед вариантом Б есть)\")\n",
    "    else:\n",
    "        print(f\"На уровне значимости {level_conf} нулевая гипотеза принимается (нет значимой разницы между вариантом А и Б)\")\n",
    "#p_bin(46,1100,30,1000,0.1) Пример ф-иии и ответа:\n",
    "# На уровне значимости 0.1 нулевая гипотеза отвергается в пользу альтернативной: Вариаент А более значим (значимая разница Варианта А перед вариантом Б есть)"
   ]
  },
  {
   "cell_type": "code",
   "execution_count": 3,
   "id": "bca068a8",
   "metadata": {},
   "outputs": [
    {
     "name": "stdout",
     "output_type": "stream",
     "text": [
      "Stats -20.084816152154797, p-value 1.0\n",
      "На уровне значимости 0.05 нулевая гипотеза принимается (нет значимой разницы между вариантом А и Б)\n"
     ]
    }
   ],
   "source": [
    "p_bin(59414, 9808238+59414,39872,5777695+39872)"
   ]
  },
  {
   "cell_type": "markdown",
   "id": "5383c4c3",
   "metadata": {},
   "source": [
    "Строим сводную таблицу с группировкой по типу устройства  и типу конверсии - в целефвое действие и нецелевое действие"
   ]
  },
  {
   "cell_type": "code",
   "execution_count": 26,
   "id": "e1955c49",
   "metadata": {},
   "outputs": [
    {
     "data": {
      "text/plain": [
       "device_category_type  event_action_taget_notarget\n",
       "desktop               notarget                        3921408\n",
       "                      taget                             23846\n",
       "mobile                notarget                       11664525\n",
       "                      taget                             75440\n",
       "Name: session_id, dtype: int64"
      ]
     },
     "execution_count": 26,
     "metadata": {},
     "output_type": "execute_result"
    }
   ],
   "source": [
    "df1.groupby(['device_category_type','event_action_taget_notarget'])['session_id'].count()\n"
   ]
  },
  {
   "cell_type": "markdown",
   "id": "93a76916",
   "metadata": {},
   "source": [
    "Нулевая гипотеза : кол-во конверсий среди мобильного траффика такое же, как и при траффике с ПК\n",
    "Альтенативная гипотеза: кол-во конверсий выше при мобильном траффике\n",
    "Используем биномиальный критерий проверки гипотезы"
   ]
  },
  {
   "cell_type": "code",
   "execution_count": 4,
   "id": "e6882827",
   "metadata": {},
   "outputs": [
    {
     "name": "stdout",
     "output_type": "stream",
     "text": [
      "Stats 8.270194225881966, p-value 1.1102230246251565e-16\n",
      "На уровне значимости 0.05 нулевая гипотеза отвергается в пользу альтернативной: Вариаент А более значим (значимая разница Варианта А перед вариантом Б есть)\n"
     ]
    }
   ],
   "source": [
    "p_bin(75440, 11664525+75440,23846,3921408+23846)"
   ]
  },
  {
   "cell_type": "markdown",
   "id": "5523059a",
   "metadata": {},
   "source": [
    "Строим сводную таблицу с группировкой по городам присуствия и нет а также и типу конверсии - в целефвое действие и нецелевое действие"
   ]
  },
  {
   "cell_type": "code",
   "execution_count": 27,
   "id": "01bd5e42",
   "metadata": {},
   "outputs": [
    {
     "data": {
      "text/plain": [
       "geo_city_presence  event_action_taget_notarget\n",
       "city_presence      notarget                       9847695\n",
       "                   taget                            67130\n",
       "other_city         notarget                       5738238\n",
       "                   taget                            32156\n",
       "Name: session_id, dtype: int64"
      ]
     },
     "execution_count": 27,
     "metadata": {},
     "output_type": "execute_result"
    }
   ],
   "source": [
    "df1.groupby(['geo_city_presence', 'event_action_taget_notarget'])['session_id'].count()\n"
   ]
  },
  {
   "cell_type": "markdown",
   "id": "e83211d0",
   "metadata": {},
   "source": [
    "Нулевая гипотеза : кол-во конверсий среди трафика из городов присутсвия такое же, как из других городов\n",
    "Альтенативная гипотеза: кол-во конверсий выше из городов присутсвия\n",
    "Используем биномиальный критерий проверки гипотезы\n",
    "Итого, Нулевая гипотеза отвергается в пользу альтернативной - больше конверсий из городов присутсвия."
   ]
  },
  {
   "cell_type": "code",
   "execution_count": 5,
   "id": "94b1a286",
   "metadata": {},
   "outputs": [
    {
     "name": "stdout",
     "output_type": "stream",
     "text": [
      "Stats 28.851484895594773, p-value 0.0\n",
      "На уровне значимости 0.05 нулевая гипотеза отвергается в пользу альтернативной: Вариаент А более значим (значимая разница Варианта А перед вариантом Б есть)\n"
     ]
    }
   ],
   "source": [
    "p_bin(67130, 9847695+67130,32156,5738238+32156)"
   ]
  },
  {
   "cell_type": "markdown",
   "id": "0d03b596",
   "metadata": {},
   "source": [
    "Строим сводную таблицу с группировкой по типу конверсии - в целевое действие и нецелевое действие, типу траффика и типу устройств, а также городам присуствия. "
   ]
  },
  {
   "cell_type": "code",
   "execution_count": 28,
   "id": "1bf6e7af",
   "metadata": {},
   "outputs": [
    {
     "data": {
      "text/plain": [
       "event_action_taget_notarget  utm_medium_type_organic_not_organic  device_category_type  geo_city_presence\n",
       "notarget                     not_organic                          desktop               city_presence        1203764\n",
       "                                                                                        other_city            349756\n",
       "                                                                  mobile                city_presence        4864114\n",
       "                                                                                        other_city           3390604\n",
       "                             organic                              desktop               city_presence        1517897\n",
       "                                                                                        other_city            849991\n",
       "                                                                  mobile                city_presence        2261920\n",
       "                                                                                        other_city           1147887\n",
       "taget                        not_organic                          desktop               city_presence           6217\n",
       "                                                                                        other_city              1280\n",
       "                                                                  mobile                city_presence          34156\n",
       "                                                                                        other_city             17761\n",
       "                             organic                              desktop               city_presence          11141\n",
       "                                                                                        other_city              5208\n",
       "                                                                  mobile                city_presence          15616\n",
       "                                                                                        other_city              7907\n",
       "Name: session_id, dtype: int64"
      ]
     },
     "execution_count": 28,
     "metadata": {},
     "output_type": "execute_result"
    }
   ],
   "source": [
    "df1.groupby(['event_action_taget_notarget', 'utm_medium_type_organic_not_organic', 'device_category_type' ,'geo_city_presence'])['session_id'].count()\n"
   ]
  },
  {
   "cell_type": "markdown",
   "id": "3d91ddd3",
   "metadata": {},
   "source": [
    "С точки зрения объема траффика к нам идет наибольший неорганический траффик с мобильных устройств из городов присуствия\n",
    "С точки зрения конверсии, к нам идет неорганический траффик с мобильных устройств из городов присутсвия"
   ]
  },
  {
   "cell_type": "markdown",
   "id": "5f364999",
   "metadata": {},
   "source": [
    "Строим сводную таблицу с группировкой по типу конверсии - в целевое действие и нецелевое действие, а также модели автомобиля"
   ]
  },
  {
   "cell_type": "code",
   "execution_count": 32,
   "id": "d7e91505",
   "metadata": {},
   "outputs": [
    {
     "data": {
      "text/plain": [
       "event_action_taget_notarget  car_type      \n",
       "notarget                     /audi                62724\n",
       "                             /bmw                193573\n",
       "                             /fiat                   48\n",
       "                             /haval               51264\n",
       "                             /kia                237353\n",
       "                             /lada-vaz           399928\n",
       "                             /land-rover          24879\n",
       "                             /lexus               61586\n",
       "                             /mercedes-benz      471686\n",
       "                             /mini                34724\n",
       "                             /nissan             364201\n",
       "                             /peugeot             27247\n",
       "                             /porsche             63350\n",
       "                             /renault            147942\n",
       "                             /skoda              736995\n",
       "                             /toyota             162238\n",
       "                             /volkswagen         411587\n",
       "                             /volvo               51522\n",
       "                             model_unknown     12083086\n",
       "taget                        /audi                  168\n",
       "                             /bmw                   920\n",
       "                             /haval                 565\n",
       "                             /kia                  2669\n",
       "                             /lada-vaz             5197\n",
       "                             /land-rover             41\n",
       "                             /lexus                 256\n",
       "                             /mercedes-benz        2380\n",
       "                             /mini                   70\n",
       "                             /nissan               1239\n",
       "                             /peugeot               131\n",
       "                             /porsche               124\n",
       "                             /renault              1298\n",
       "                             /skoda                7942\n",
       "                             /toyota               1636\n",
       "                             /volkswagen           4867\n",
       "                             /volvo                 236\n",
       "                             model_unknown        69547\n",
       "Name: session_id, dtype: int64"
      ]
     },
     "execution_count": 32,
     "metadata": {},
     "output_type": "execute_result"
    }
   ],
   "source": [
    "df1.groupby(['event_action_taget_notarget', 'car_type'])['session_id'].count()\n"
   ]
  },
  {
   "attachments": {},
   "cell_type": "markdown",
   "id": "98e89140",
   "metadata": {},
   "source": [
    "Самые популярные модели с точки зрения наибольшего спроса (ТОП5) это skoda, lada-vaz, volkswagen, kia, mercedes-benz"
   ]
  },
  {
   "cell_type": "markdown",
   "id": "a529eb79",
   "metadata": {},
   "source": [
    "# ОТВЕТЫ на Гипотезы и Вопросы:"
   ]
  },
  {
   "cell_type": "markdown",
   "id": "204d640c",
   "metadata": {},
   "source": [
    "1) Органический трафик не отличается от платного с точки зрения CR (Conversion Rate) в целевые события.\n",
    "Нулевая гипотеза : кол-во конверсий среди органического трафика такое же, как и при не-органическом \n",
    "    Альтенативная гипотеза: кол-во конверсий выше при не-органическом траффике Используем биномиальный критерий проверки гипотезы\n",
    "На уровне значимости 0.05 нулевая гипотеза ПОДТВЕРЖДАЕТСЯ (нет значимой разницы между вариантом А и Б), \n",
    "т.е. Органический трафик не отличается от платного с точки зрения CR (Conversion Rate) в целевые события.\n",
    "\n",
    "2) Трафик с мобильных устройств не отличается от трафика с десктопных устройств с точки зрения CR (Conversion Rate) в целевые события.\n",
    "Нулевая гипотеза : кол-во конверсий среди мобильного траффика такое же, как и при траффике с ПК \n",
    "    Альтенативная гипотеза: кол-во конверсий выше при мобильном траффике Используем биномиальный критерий проверки гипотезы\n",
    "На уровне значимости 0.05 нулевая гипотеза ОТВЕРГАЕТСЯ в пользу альтернативной: Вариаент А более значим (значимая разница Варианта А перед вариантом Б есть)\n",
    "т.е. трафик с мобильных устройств ОТЛИЧАЕТСЯ от трафика с десктопных устройств с точки зрения CR (Conversion Rate) в целевые события.    \n",
    "        \n",
    "3) Трафик из городов присутствия (Москва и область, Санкт-Петербург) не отличается от трафика из иных регионов с точки зрения CR (Conversion Rate) в целевые события.\n",
    "Нулевая гипотеза : кол-во конверсий среди трафика из городов присутствия такое же, как из других городов\n",
    "    Альтенативная гипотеза: кол-во конверсий выше из городов присутствия\n",
    "Используем биномиальный критерий проверки гипотезы\n",
    "На уровне значимости 0.05 нулевая гипотеза ОТВЕРГАЕТСЯ в пользу альтернативной: Вариаент А более значим (значимая разница Варианта А перед вариантом Б есть)\n",
    "т.е. трафик из городов присутствия (Москва и область, Санкт-Петербург) ОТЛИЧАЕТСЯ от трафика из иных регионов с точки зрения CR (Conversion Rate) в целевые события.\n",
    "    \n",
    "Ответьте на вопросы продуктовой команды:\n",
    "\n",
    "1) Из каких источников (кампаний, устройств, локаций) к нам идёт самый целевой трафик (и с точки зрения объёма трафика, и с точки зрения CR)?\n",
    "С точки зрения объема траффика к нам идет наибольший неорганический траффик с мобильных устройств из городов присуствия\n",
    "С точки зрения конверсии, к нам идет неорганический траффик с мобильных устройств из городов присутсвия\n",
    "\n",
    "2) Какие авто пользуются наибольшим спросом? У каких авто самый лучший показатель CR (Conversion Rate) в целевые события?\n",
    "Самые популярные модели с точки зрения наибольшего спроса (ТОП5) это skoda, lada-vaz, volkswagen, kia, mercedes-benz\n",
    "\n",
    "3) Стоит ли нам увеличивать своё присутствие в соцсетях и давать там больше рекламы?\n",
    "В связи с тем, что неорганический траффик НЕ имеет решающее значение для повышения конверсии, \n",
    "НЕ следует увеличить свое присутвие в социальных сетях, давать больше рекламы. \n",
    "При этом следует обратить внимание, что наибольшую конерсию мы получаем через мобильные устройства и \n",
    "из городов присутсвия: следует сконцентрироваться на мобильном сегменте, мобильном приложении и на \n",
    "городах присутвия, слеует найти самые популярные соц-сети через мобильные устройства и концентрироваться на \n",
    "тех моделях, что наиболее интересны аудитории (Шкода, Лада-Ваз, Фолькцваген, Киа, Мерседес) \n",
    "также мобильные интеграции."
   ]
  }
 ],
 "metadata": {
  "kernelspec": {
   "display_name": "Python 3 (ipykernel)",
   "language": "python",
   "name": "python3"
  },
  "language_info": {
   "codemirror_mode": {
    "name": "ipython",
    "version": 3
   },
   "file_extension": ".py",
   "mimetype": "text/x-python",
   "name": "python",
   "nbconvert_exporter": "python",
   "pygments_lexer": "ipython3",
   "version": "3.8.3"
  }
 },
 "nbformat": 4,
 "nbformat_minor": 5
}
